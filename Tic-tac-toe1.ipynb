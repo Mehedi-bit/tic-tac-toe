{
 "cells": [
  {
   "cell_type": "markdown",
   "metadata": {},
   "source": [
    "# Milestone project - 1"
   ]
  },
  {
   "cell_type": "markdown",
   "metadata": {},
   "source": [
    "# tic tac toe "
   ]
  },
  {
   "cell_type": "code",
   "execution_count": 1,
   "metadata": {},
   "outputs": [],
   "source": [
    "from IPython.display import clear_output\n",
    "\n",
    "def display_board(board):\n",
    "    clear_output()\n",
    "    print(' '+board[7]+'|'+ board[8]+'|'+board[9])\n",
    "    print('--|-|--')\n",
    "    print(' '+board[4]+'|'+ board[5]+'|'+board[6])\n",
    "    print('--|-|--')\n",
    "    print(' '+board[1]+'|'+ board[2]+'|'+board[3])\n",
    "    "
   ]
  },
  {
   "cell_type": "code",
   "execution_count": 2,
   "metadata": {},
   "outputs": [
    {
     "name": "stdout",
     "output_type": "stream",
     "text": [
      " X|O|X\n",
      "--|-|--\n",
      " O|X|O\n",
      "--|-|--\n",
      " X|O|X\n"
     ]
    }
   ],
   "source": [
    "test_board = ['#','X','O','X','O','X','O','X','O','X']\n",
    "display_board(test_board)"
   ]
  },
  {
   "cell_type": "code",
   "execution_count": 3,
   "metadata": {},
   "outputs": [],
   "source": [
    "def player_input():\n",
    "    \n",
    "    marker = ''\n",
    "    \n",
    "    while not (marker == 'X' or marker == 'O'):\n",
    "        marker = input('Player 1, choose X or O: ').upper()\n",
    "    if marker == 'X':\n",
    "        return ('X','O')\n",
    "    else:\n",
    "        return('O','X')\n",
    "   "
   ]
  },
  {
   "cell_type": "code",
   "execution_count": 4,
   "metadata": {},
   "outputs": [
    {
     "name": "stdout",
     "output_type": "stream",
     "text": [
      "Player 1, choose X or O: x\n"
     ]
    }
   ],
   "source": [
    "player_1_is , player_2_is = player_input()"
   ]
  },
  {
   "cell_type": "code",
   "execution_count": 5,
   "metadata": {},
   "outputs": [
    {
     "data": {
      "text/plain": [
       "'X'"
      ]
     },
     "execution_count": 5,
     "metadata": {},
     "output_type": "execute_result"
    }
   ],
   "source": [
    "player_1_is"
   ]
  },
  {
   "cell_type": "code",
   "execution_count": 6,
   "metadata": {},
   "outputs": [
    {
     "data": {
      "text/plain": [
       "'O'"
      ]
     },
     "execution_count": 6,
     "metadata": {},
     "output_type": "execute_result"
    }
   ],
   "source": [
    "player_2_is"
   ]
  },
  {
   "cell_type": "code",
   "execution_count": 7,
   "metadata": {},
   "outputs": [],
   "source": [
    "def place_marker(board,marker,position):\n",
    "    \n",
    "    board[position] = marker"
   ]
  },
  {
   "cell_type": "code",
   "execution_count": 8,
   "metadata": {},
   "outputs": [
    {
     "data": {
      "text/plain": [
       "['#', 'X', 'O', 'X', 'O', 'X', 'O', 'X', 'O', 'X']"
      ]
     },
     "execution_count": 8,
     "metadata": {},
     "output_type": "execute_result"
    }
   ],
   "source": [
    "test_board"
   ]
  },
  {
   "cell_type": "code",
   "execution_count": 9,
   "metadata": {},
   "outputs": [
    {
     "name": "stdout",
     "output_type": "stream",
     "text": [
      " X|$|X\n",
      "--|-|--\n",
      " O|X|O\n",
      "--|-|--\n",
      " X|O|X\n"
     ]
    }
   ],
   "source": [
    "place_marker(test_board,'$',8)\n",
    "display_board(test_board)"
   ]
  },
  {
   "cell_type": "code",
   "execution_count": 10,
   "metadata": {},
   "outputs": [],
   "source": [
    "def win_check(board,marker):\n",
    "    if ((board[1] == marker and board[2] == marker and board[3] == marker) or\n",
    "        (board[4] == marker and board[5] == marker and board[6] == marker) or\n",
    "        (board[7] == marker and board[8] == marker and board[9] == marker) or\n",
    "        (board[1] == marker and board[4] == marker and board[7] == marker) or\n",
    "        (board[2] == marker and board[5] == marker and board[8] == marker) or\n",
    "        (board[9] == marker and board[6] == marker and board[3] == marker) or\n",
    "        (board[1] == marker and board[5] == marker and board[9] == marker) or\n",
    "        (board[3] == marker and board[5] == marker and board[7] == marker)):\n",
    "        return True"
   ]
  },
  {
   "cell_type": "code",
   "execution_count": 11,
   "metadata": {},
   "outputs": [
    {
     "name": "stdout",
     "output_type": "stream",
     "text": [
      " X|$|X\n",
      "--|-|--\n",
      " O|X|O\n",
      "--|-|--\n",
      " X|O|X\n"
     ]
    },
    {
     "data": {
      "text/plain": [
       "True"
      ]
     },
     "execution_count": 11,
     "metadata": {},
     "output_type": "execute_result"
    }
   ],
   "source": [
    "display_board(test_board)\n",
    "win_check(test_board,'X')"
   ]
  },
  {
   "cell_type": "code",
   "execution_count": 12,
   "metadata": {},
   "outputs": [],
   "source": [
    "import random\n",
    "\n",
    "def choose_first():\n",
    "    player  = random.randint(1,2)\n",
    "    \n",
    "    if player == 1:\n",
    "        return 'Player 1'\n",
    "    else:\n",
    "        return 'Player 2'"
   ]
  },
  {
   "cell_type": "code",
   "execution_count": 13,
   "metadata": {},
   "outputs": [],
   "source": [
    "def space_check(board,position):\n",
    "    \n",
    "    return board[position] == ' '"
   ]
  },
  {
   "cell_type": "code",
   "execution_count": 14,
   "metadata": {},
   "outputs": [],
   "source": [
    "def full_board_check(board):\n",
    "    for i in range(1,10):\n",
    "        if space_check(board,i):\n",
    "            return False\n",
    "    return True"
   ]
  },
  {
   "cell_type": "code",
   "execution_count": 15,
   "metadata": {},
   "outputs": [],
   "source": [
    "def player_choise(board):\n",
    "    \n",
    "    position = 0\n",
    "    \n",
    "    while position not in [1,2,3,4,5,6,7,8,9] and space_check(board,position):\n",
    "        position = int(input('Choose a position: (1-9) '))\n",
    "    return position"
   ]
  },
  {
   "cell_type": "code",
   "execution_count": 16,
   "metadata": {},
   "outputs": [],
   "source": [
    "def replay():\n",
    "    choise = input(\"Play again? Enter Yes or No: \").upper()\n",
    "    \n",
    "    return choise == 'YES'"
   ]
  },
  {
   "cell_type": "code",
   "execution_count": null,
   "metadata": {},
   "outputs": [],
   "source": [
    " "
   ]
  },
  {
   "cell_type": "code",
   "execution_count": null,
   "metadata": {},
   "outputs": [],
   "source": []
  },
  {
   "cell_type": "markdown",
   "metadata": {},
   "source": [
    "# Main part ( play / execute part )"
   ]
  },
  {
   "cell_type": "code",
   "execution_count": 17,
   "metadata": {},
   "outputs": [
    {
     "name": "stdout",
     "output_type": "stream",
     "text": [
      " X|O|X\n",
      "--|-|--\n",
      " O|X|X\n",
      "--|-|--\n",
      " O|X|O\n",
      "GAME DRAW!\n",
      "Play again? Enter Yes or No: no\n"
     ]
    }
   ],
   "source": [
    "###### WHILE LOOP TO KEEP RUNNING THE GAME\n",
    "print('Welcome to TIC TAC TOE')\n",
    "\n",
    "while True:\n",
    "    \n",
    "    # PLAY THE GAME\n",
    "    \n",
    "    ## SET EVERYTHING UP (BOARD, WHO IS 1ST, CHOOSE MARKERS X,O)\n",
    "    the_board = [' ']*10\n",
    "    player_1_is,player_2_is = player_input()\n",
    "    \n",
    "    turn = choose_first()\n",
    "    print(turn + ' will go first')\n",
    "    \n",
    "    play_game = input('Ready to play? y or n')\n",
    "    \n",
    "    if play_game =='y':\n",
    "        game_on = True\n",
    "    else:\n",
    "        game_on = False\n",
    "        \n",
    "    \n",
    "    ## GAME PLAY\n",
    "    \n",
    "    \n",
    "    ### PLAYER ONE TURN\n",
    "    \n",
    "    while game_on:\n",
    "        \n",
    "        if turn == 'Player 1':\n",
    "            \n",
    "            # Show the board\n",
    "            display_board(the_board)\n",
    "            # Choose a position\n",
    "            position = player_choise(the_board)\n",
    "            # place the marker on the position\n",
    "            place_marker(the_board,player_1_is,position)\n",
    "            \n",
    "            # Check if they won\n",
    "            if win_check(the_board,player_1_is):\n",
    "                display_board(the_board)\n",
    "                print(\"PLAYER 1 HAS WON!!\")\n",
    "                game_on = False\n",
    "            else:\n",
    "            # Or check if there is a tie\n",
    "                if full_board_check(the_board):\n",
    "                    display_board(the_board)\n",
    "                    print(\"GAME DRAW!\")\n",
    "                    game_on = False # or break\n",
    "                else:\n",
    "                    turn = 'Player 2'\n",
    "            \n",
    "            # No tie and no win? Then next player's turn\n",
    "    \n",
    "    \n",
    "    \n",
    "        else:\n",
    "            \n",
    "    ### PLAYER TWO TURN\n",
    "            \n",
    "            # Show the board\n",
    "            display_board(the_board)\n",
    "            # Choose a position\n",
    "            position = player_choise(the_board)\n",
    "            # place the marker on the position\n",
    "            place_marker(the_board,player_2_is,position)\n",
    "            \n",
    "            # Check if they won\n",
    "            if win_check(the_board,player_2_is):\n",
    "                display_board(the_board)\n",
    "                print(\"PLAYER 2 HAS WON!!\")\n",
    "                game_on = False\n",
    "            else:\n",
    "            # Or check if there is a tie\n",
    "            \n",
    "            \n",
    "            \n",
    "    \n",
    "    \n",
    "            \n",
    "            \n",
    "            \n",
    "                if full_board_check(the_board):\n",
    "                    display_board(the_board)\n",
    "                    print(\"GAME DRAW!\")\n",
    "                    game_on = False # or break\n",
    "                else:\n",
    "                    turn = 'Player 1'\n",
    "\n",
    "\n",
    "    if not replay():\n",
    "        break\n",
    "\n",
    "# BREAK OUT OF THE WHILE LOOP ON replay()"
   ]
  }
 ],
 "metadata": {
  "kernelspec": {
   "display_name": "Python 3",
   "language": "python",
   "name": "python3"
  },
  "language_info": {
   "codemirror_mode": {
    "name": "ipython",
    "version": 3
   },
   "file_extension": ".py",
   "mimetype": "text/x-python",
   "name": "python",
   "nbconvert_exporter": "python",
   "pygments_lexer": "ipython3",
   "version": "3.7.6"
  }
 },
 "nbformat": 4,
 "nbformat_minor": 4
}
